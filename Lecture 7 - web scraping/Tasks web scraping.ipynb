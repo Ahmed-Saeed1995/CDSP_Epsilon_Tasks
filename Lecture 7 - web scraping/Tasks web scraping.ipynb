{
 "cells": [
  {
   "cell_type": "markdown",
   "metadata": {},
   "source": [
    "Task 1\n",
    "---------\n",
    "Get the USD To EUR Exchange rate from this web service\n",
    "https://api.frankfurter.app/latest?amount=1&from=USD&to=EUR \n",
    "and then use it to make a software that takes amount of USD Dollars from the user and calculate how much will it cost in EUR.\n",
    "hint: take a look on the url of the service can you guess how I can modify it to calculate the 10$ for EUR for example ?!"
   ]
  },
  {
   "cell_type": "code",
   "execution_count": 1,
   "metadata": {},
   "outputs": [],
   "source": [
    "import requests\n",
    "import jason"
   ]
  },
  {
   "cell_type": "code",
   "execution_count": 3,
   "metadata": {},
   "outputs": [],
   "source": [
    "response = requests.request(\"get\",\"https://api.frankfurter.app/latest?amount=1&from=USD&to=EUR\")\n",
    "# response.content"
   ]
  },
  {
   "cell_type": "code",
   "execution_count": 4,
   "metadata": {},
   "outputs": [
    {
     "data": {
      "text/plain": [
       "{'amount': 1.0, 'base': 'USD', 'date': '2021-10-20', 'rates': {'EUR': 0.86036}}"
      ]
     },
     "execution_count": 4,
     "metadata": {},
     "output_type": "execute_result"
    }
   ],
   "source": [
    "amount = response.json()\n",
    "amount"
   ]
  },
  {
   "cell_type": "code",
   "execution_count": 5,
   "metadata": {},
   "outputs": [
    {
     "name": "stdout",
     "output_type": "stream",
     "text": [
      "Type in USD currency to exchange it to EUR: 10\n",
      "The ammount of cuurancy that converted from USD to EUR is: 8.6036EUR\n"
     ]
    }
   ],
   "source": [
    "EUR = amount[\"rates\"][\"EUR\"]\n",
    "USD = float(input(\"Type in USD currency to exchange it to EUR: \"))\n",
    "value = EUR * USD\n",
    "print(f\"The ammount of cuurancy that converted from USD to EUR is: {value}EUR\")"
   ]
  },
  {
   "cell_type": "markdown",
   "metadata": {},
   "source": [
    "Task 2\n",
    "---------\n",
    "Use this web service \n",
    "https://www.metaweather.com/api/location/1521894/ \n",
    "one time for 3 different days in this week \n",
    "and make a program that get the weather temperature, humidity, visibility, air pressure, wind speed & datetime and save each day data in a CSV file.\n"
   ]
  },
  {
   "cell_type": "code",
   "execution_count": 2,
   "metadata": {},
   "outputs": [],
   "source": [
    "import csv"
   ]
  },
  {
   "cell_type": "code",
   "execution_count": 3,
   "metadata": {},
   "outputs": [],
   "source": [
    "task2 = requests.get(\"https://www.metaweather.com/api/location/1521894/\")\n",
    "data = task2.json()"
   ]
  },
  {
   "cell_type": "code",
   "execution_count": 4,
   "metadata": {},
   "outputs": [
    {
     "data": {
      "text/plain": [
       "{'id': 5606507778408448,\n",
       " 'weather_state_name': 'Clear',\n",
       " 'weather_state_abbr': 'c',\n",
       " 'wind_direction_compass': 'NNE',\n",
       " 'created': '2021-10-23T07:34:22.632613Z',\n",
       " 'applicable_date': '2021-10-23',\n",
       " 'min_temp': 18.66,\n",
       " 'max_temp': 28.91,\n",
       " 'the_temp': 27.020000000000003,\n",
       " 'wind_speed': 7.089502268270633,\n",
       " 'wind_direction': 11.5,\n",
       " 'air_pressure': 1020.0,\n",
       " 'humidity': 50,\n",
       " 'visibility': 13.647796866300803,\n",
       " 'predictability': 68}"
      ]
     },
     "execution_count": 4,
     "metadata": {},
     "output_type": "execute_result"
    }
   ],
   "source": [
    "data[\"consolidated_weather\"][0]"
   ]
  },
  {
   "cell_type": "code",
   "execution_count": 5,
   "metadata": {},
   "outputs": [
    {
     "name": "stdout",
     "output_type": "stream",
     "text": [
      "the_temp: 27.020000000000003  wind_speed: 7.089502268270633  humidity: 50  visibility: 13.647796866300803\n",
      "the_temp: 26.3  wind_speed: 6.675696354715131  humidity: 49  visibility: 13.797236638033882\n",
      "the_temp: 27.39  wind_speed: 6.54650966907129  humidity: 53  visibility: 13.607407738805376\n",
      "the_temp: 27.95  wind_speed: 7.304081866884064  humidity: 54  visibility: 13.591873458999443\n",
      "the_temp: 28.905  wind_speed: 8.05156822008802  humidity: 49  visibility: 13.884849976139346\n",
      "the_temp: 28.73  wind_speed: 6.3688757655293085  humidity: 49  visibility: 9.999726596675416\n"
     ]
    }
   ],
   "source": [
    "for weather in data[\"consolidated_weather\"]:\n",
    "    print(f\"the_temp:\", weather[\"the_temp\"],\" wind_speed:\",weather[\"wind_speed\"], \" humidity:\", weather[\"humidity\"]\n",
    "         ,\" visibility:\", weather[\"visibility\"])"
   ]
  },
  {
   "cell_type": "code",
   "execution_count": 6,
   "metadata": {},
   "outputs": [],
   "source": [
    "with open(\"weather.csv\",\"a\", newline='') as f:\n",
    "    file = csv.DictWriter(f, fieldnames = [\"applicable_date\", \"the_temp\", \"wind_speed\",\n",
    "                                           \"humidity\",\"air_pressure\", \"visibility\"] )\n",
    "    file.writeheader()\n",
    "    for weather in data[\"consolidated_weather\"]:\n",
    "        date = weather[\"applicable_date\"]\n",
    "        the_temp = weather[\"the_temp\"]\n",
    "        wind_speed = weather[\"wind_speed\"]\n",
    "        humidity = weather[\"humidity\"]\n",
    "        air_presure = weather[\"air_pressure\"]\n",
    "        visibility =  weather[\"visibility\"]\n",
    "        file.writerow({\"applicable_date\":date, \"the_temp\":the_temp, \"wind_speed\":wind_speed,\"humidity\": humidity,\n",
    "                       \"air_pressure\":air_presure, \"visibility\":visibility })"
   ]
  },
  {
   "cell_type": "markdown",
   "metadata": {},
   "source": [
    "Task 3\n",
    "---------\n",
    "Use this web service \n",
    "https://gorest.co.in/public-api/users?_format=json&access-token=H4lYmIGLXZkDlpy_w0ZVS5rgcpDXbN7fhRRy\n",
    "and make a program that get all users data including name, email, gender, Status (0 for ‘inactive’,1 for ‘active’) and then save them in a CSV file."
   ]
  },
  {
   "cell_type": "code",
   "execution_count": 188,
   "metadata": {},
   "outputs": [],
   "source": [
    "task3 = requests.request(\"get\", \"https://gorest.co.in/public-api/users?_format=json&access-token=H4lYmIGLXZkDlpy_w0ZVS5rgcpDXbN7fhRRy\")\n",
    "users = task3.json()"
   ]
  },
  {
   "cell_type": "code",
   "execution_count": 192,
   "metadata": {},
   "outputs": [
    {
     "name": "stdout",
     "output_type": "stream",
     "text": [
      "Name:  Jan Novak email: email4084@email.email genser:  male status:  1\n",
      "Name:  API Monitoring:twj7y email: apimonitoringtwj7y@synthetic.com genser:  male status:  1\n",
      "Name:  Jan Novak email: email8906@email.email genser:  male status:  1\n",
      "Name:  API Monitoring email: apimonitoringd20580@synthetic.com genser:  female status:  1\n",
      "Name:  cross_platform.qbo email: Kaia68@example.net genser:  female status:  1\n",
      "Name:  testzenica email: testzenica@gmail.com genser:  male status:  1\n",
      "Name:  Jan Novakovic email: email4012@email.email genser:  male status:  1\n",
      "Name:  Test Vari email: 01test_varia@hmail.ooo genser:  male status:  0\n",
      "Name:  API Monitoring:u0steu email: apimonitoringu0steu@synthetic.com genser:  male status:  1\n",
      "Name:  A. Sergey email: zold@mail.ru genser:  male status:  1\n",
      "Name:  balaji12345 email: balaji1@gmail.com genser:  female status:  1\n",
      "Name:  withdrawalYAredfxsy email: Stacy@exsaef.in genser:  female status:  0\n",
      "Name:  ahme aewr email: 756492a@hotmail.com genser:  female status:  1\n",
      "Name:  API Monitoring:6qxvgx email: apimonitoring6qxvgx@synthetic.com genser:  male status:  1\n",
      "Name:  Tenali Ramakrishnajmeter email: tenali.ramakrishnajmeter@19ce.com genser:  male status:  1\n",
      "Name:  API Monitoring:4rd3d email: apimonitoring4rd3d@synthetic.com genser:  male status:  1\n",
      "Name:  lance email: lance@benq.com genser:  male status:  0\n",
      "Name:  Ann email: test_1634731667@mailinator.com genser:  female status:  0\n",
      "Name:  API Monitoring:rlu9o9 email: apimonitoringrlu9o9@synthetic.com genser:  male status:  1\n",
      "Name:  API Monitoring:trz5h8 email: apimonitoringtrz5h8@synthetic.com genser:  male status:  1\n"
     ]
    }
   ],
   "source": [
    "# Study parts of code i.e converting status values\n",
    "for user in users[\"data\"]:\n",
    "    if user[\"status\"] == \"active\":\n",
    "        user[\"status\"] = 1\n",
    "    elif user[\"status\"] == \"inactive\":\n",
    "        user[\"status\"] = 0\n",
    "    else:\n",
    "        pass\n",
    "    print(\"Name: \",user[\"name\"], \"email:\", user[\"email\"], \"genser: \",user[\"gender\"], \"status: \",user[\"status\"])"
   ]
  },
  {
   "cell_type": "code",
   "execution_count": 196,
   "metadata": {},
   "outputs": [],
   "source": [
    "with open(\"user_profile.csv\", \"w\",newline='' ) as uf:\n",
    "    # make columns `s names in cvs file\n",
    "    uf = csv.DictWriter(uf, fieldnames = [\"Name\", \"Email\", \"Gender\", \"Status\"])\n",
    "    uf.writeheader()\n",
    "    \n",
    "    # loop over a dictionary\n",
    "    for user in users[\"data\"]:\n",
    "        \n",
    "        # convert categorical data into discrete data\n",
    "        if user[\"status\"] == \"active\":\n",
    "            user[\"status\"] = 1\n",
    "        elif user[\"status\"] == \"inactive\":\n",
    "            user[\"status\"] = 0\n",
    "        else:\n",
    "            pass\n",
    "        # assign each value on seprate variable\n",
    "        name = user[\"name\"]\n",
    "        email = user[\"email\"]\n",
    "        gender = user[\"gender\"]\n",
    "        status = user[\"status\"]\n",
    "        # write in csv file the assigned values\n",
    "        uf.writerow({\"Name\":name, \"Email\":email, \"Gender\":gender, \"Status\": status})"
   ]
  }
 ],
 "metadata": {
  "kernelspec": {
   "display_name": "Python 3",
   "language": "python",
   "name": "python3"
  },
  "language_info": {
   "codemirror_mode": {
    "name": "ipython",
    "version": 3
   },
   "file_extension": ".py",
   "mimetype": "text/x-python",
   "name": "python",
   "nbconvert_exporter": "python",
   "pygments_lexer": "ipython3",
   "version": "3.7.6"
  }
 },
 "nbformat": 4,
 "nbformat_minor": 4
}
