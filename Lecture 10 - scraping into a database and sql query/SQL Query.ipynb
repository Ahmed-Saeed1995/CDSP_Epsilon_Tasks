{
 "cells": [
  {
   "cell_type": "markdown",
   "metadata": {},
   "source": [
    "## Importing libraries"
   ]
  },
  {
   "cell_type": "code",
   "execution_count": 1,
   "metadata": {},
   "outputs": [],
   "source": [
    "import pandas as pd\n",
    "from sqlite3 import connect"
   ]
  },
  {
   "cell_type": "code",
   "execution_count": 2,
   "metadata": {},
   "outputs": [],
   "source": [
    "connection = connect(\"library.db\")"
   ]
  },
  {
   "cell_type": "markdown",
   "metadata": {},
   "source": [
    "## SQL scripts"
   ]
  },
  {
   "cell_type": "markdown",
   "metadata": {},
   "source": [
    "01) Write a sql query to get books that has rate >=3 and has 'Mr' in its name"
   ]
  },
  {
   "cell_type": "code",
   "execution_count": 3,
   "metadata": {},
   "outputs": [
    {
     "data": {
      "text/plain": [
       "[(221, 'Mrs. Houdini', 5, 30.25), (1089, 'Mrs. Houdini', 5, 30.25)]"
      ]
     },
     "execution_count": 3,
     "metadata": {},
     "output_type": "execute_result"
    }
   ],
   "source": [
    "one = connection.execute(\"SELECT * FROM books where book_name like 'Mr%' and rates >=3 \").fetchall()\n",
    "one"
   ]
  },
  {
   "cell_type": "markdown",
   "metadata": {},
   "source": [
    "02) Write a sql query to get books that has rate >=3 or price > 20."
   ]
  },
  {
   "cell_type": "code",
   "execution_count": 4,
   "metadata": {
    "scrolled": false
   },
   "outputs": [
    {
     "data": {
      "text/plain": [
       "1544"
      ]
     },
     "execution_count": 4,
     "metadata": {},
     "output_type": "execute_result"
    }
   ],
   "source": [
    "two = connection.execute(\"SELECT * FROM books WHERE rates >=3 OR price >20\").fetchall()\n",
    "len(two)"
   ]
  },
  {
   "cell_type": "markdown",
   "metadata": {},
   "source": [
    "03) Write a sql query to get books that has rate not 3."
   ]
  },
  {
   "cell_type": "code",
   "execution_count": 5,
   "metadata": {},
   "outputs": [
    {
     "data": {
      "text/plain": [
       "811"
      ]
     },
     "execution_count": 5,
     "metadata": {},
     "output_type": "execute_result"
    }
   ],
   "source": [
    "three = connection.execute(\"SELECT * FROM books WHERE rates IS NOT 3\").fetchall()\n",
    "len(three)"
   ]
  },
  {
   "cell_type": "markdown",
   "metadata": {},
   "source": [
    "04) Write a sql query to get books that has price between 10 and 40 and has rate 3 or 4 or 1"
   ]
  },
  {
   "cell_type": "code",
   "execution_count": 6,
   "metadata": {},
   "outputs": [
    {
     "data": {
      "text/plain": [
       "1544"
      ]
     },
     "execution_count": 6,
     "metadata": {},
     "output_type": "execute_result"
    }
   ],
   "source": [
    "four = connection.execute(\"SELECT * FROM books WHERE price BETWEEN 10 AND 40 AND rates = 3 or 4 or 1 \").fetchall()\n",
    "len(four)"
   ]
  },
  {
   "cell_type": "markdown",
   "metadata": {},
   "source": [
    "05) Write a sql query to get the top 5 most expensive books (order books desc with price column and then limit the result to the first 5)"
   ]
  },
  {
   "cell_type": "code",
   "execution_count": 7,
   "metadata": {},
   "outputs": [
    {
     "data": {
      "text/plain": [
       "[('The Perfect Play (Play by Play #1)', 59.99),\n",
       " ('The Perfect Play (Play by Play #1)', 59.99),\n",
       " ('Last One Home (New Beginnings #1)', 59.98),\n",
       " ('Last One Home (New Beginnings #1)', 59.98),\n",
       " ('The Barefoot Contessa Cookbook', 59.92)]"
      ]
     },
     "execution_count": 7,
     "metadata": {},
     "output_type": "execute_result"
    }
   ],
   "source": [
    "connection.execute(\"SELECT book_name, price FROM books where price <= 59.99 order by price desc limit 5\").fetchall()\n"
   ]
  },
  {
   "cell_type": "markdown",
   "metadata": {},
   "source": [
    "06) Write a sql query to get the 3rd 10 books in the books table order first by rate desc and then by price asc."
   ]
  },
  {
   "cell_type": "code",
   "execution_count": 8,
   "metadata": {},
   "outputs": [
    {
     "data": {
      "text/plain": [
       "[(680, 'An Abundance of Katherines', 3, 10),\n",
       " (1823, 'An Abundance of Katherines', 3, 10),\n",
       " (543, 'The Origin of Species', 3, 10.01),\n",
       " (1846, 'The Origin of Species', 3, 10.01),\n",
       " (758,\n",
       "  'The Tipping Point: How Little Things Can Make a Big Difference',\n",
       "  3,\n",
       "  10.02),\n",
       " (1708,\n",
       "  'The Tipping Point: How Little Things Can Make a Big Difference',\n",
       "  3,\n",
       "  10.02),\n",
       " (126, 'Patience', 3, 10.16),\n",
       " (1119, 'Patience', 3, 10.16),\n",
       " (344, 'Greek Mythic History', 3, 10.23),\n",
       " (1539, 'Greek Mythic History', 3, 10.23)]"
      ]
     },
     "execution_count": 8,
     "metadata": {},
     "output_type": "execute_result"
    }
   ],
   "source": [
    "six = connection.execute(\"SELECT * FROM books WHERE rates = 3 ORDER BY rates DESC, price ASC LIMIT 10\").fetchall()\n",
    "six"
   ]
  },
  {
   "cell_type": "markdown",
   "metadata": {},
   "source": [
    "07) Write a sql query to add a new category in categories table and add 5 books to this category in books table with title, rate and price."
   ]
  },
  {
   "cell_type": "code",
   "execution_count": null,
   "metadata": {},
   "outputs": [],
   "source": [
    "for _ in range(5):\n",
    "    \n",
    "    name = input(\"type in title of the book\")\n",
    "    rate = int(input(\"rate books\"))\n",
    "    price = float(input(\"pricing the book\"))\n",
    "    new_cat = input(\"type in the name of new category\")\n",
    "\n",
    "    insert_int_books_table = connection.execute(\"INSERT INTO books (book_name, rates, price) values (?, ?, ?)\",\n",
    "                                                [name,rate,price])\n",
    "    connection.commit()\n",
    "    \n",
    "    \n",
    "    book_id = connection.execute(\"SELECT book_id from books\").fetchall()[-1][0]\n",
    "    insert_int_category_table = connection.execute(\"INSERT INTO categories (category, book_id) values (?, ?)\",\n",
    "                                                   [new_cat,book_id])\n",
    "    connection.commit()"
   ]
  },
  {
   "cell_type": "markdown",
   "metadata": {},
   "source": [
    "08) Write a sql query to update book's rate to 3 that thier price < 20£."
   ]
  },
  {
   "cell_type": "code",
   "execution_count": 9,
   "metadata": {},
   "outputs": [],
   "source": [
    "connection.execute(\"UPDATE books set rates = 3 WHERE price < 20\")\n",
    "connection.commit()"
   ]
  },
  {
   "cell_type": "markdown",
   "metadata": {},
   "source": [
    "09) Write a sql query to delete all books that have price > 50£ and has rate <= 2."
   ]
  },
  {
   "cell_type": "code",
   "execution_count": 10,
   "metadata": {},
   "outputs": [],
   "source": [
    "connection.execute(\"DELETE FROM books WHERE price >50 and rates <= 2\")\n",
    "connection.commit()"
   ]
  },
  {
   "cell_type": "markdown",
   "metadata": {},
   "source": [
    "10) Write a sql query to count the number of books that have 'Secret' in thier names and price between 10£ and 25£"
   ]
  },
  {
   "cell_type": "code",
   "execution_count": 11,
   "metadata": {},
   "outputs": [
    {
     "data": {
      "text/plain": [
       "[(10,)]"
      ]
     },
     "execution_count": 11,
     "metadata": {},
     "output_type": "execute_result"
    }
   ],
   "source": [
    "connection.execute(\"SELECT count(book_name) FROM books where book_name like '%Secret%' AND price BETWEEN 10 AND 25\").fetchall()\n",
    "# [(10,)] means 10 books"
   ]
  },
  {
   "cell_type": "markdown",
   "metadata": {},
   "source": [
    "11) Write a sql query to get the minimum & maximum price for all the books that have rate 5."
   ]
  },
  {
   "cell_type": "code",
   "execution_count": 12,
   "metadata": {},
   "outputs": [
    {
     "data": {
      "text/plain": [
       "(20.02, 59.92)"
      ]
     },
     "execution_count": 12,
     "metadata": {},
     "output_type": "execute_result"
    }
   ],
   "source": [
    "connection.execute(\"SELECT min(price) as mimimum, max(price) as maximum FROM books WHERE rates = 5\").fetchall()[0]"
   ]
  },
  {
   "cell_type": "markdown",
   "metadata": {},
   "source": [
    "12) Write a sql query to calculate the avg price for all the books that have rate 5"
   ]
  },
  {
   "cell_type": "code",
   "execution_count": 13,
   "metadata": {},
   "outputs": [
    {
     "data": {
      "text/plain": [
       "41.03433962264149"
      ]
     },
     "execution_count": 13,
     "metadata": {},
     "output_type": "execute_result"
    }
   ],
   "source": [
    "connection.execute(\"SELECT avg(price) FROM books WHERE rates = 5\").fetchall()[0][0]"
   ]
  },
  {
   "cell_type": "markdown",
   "metadata": {},
   "source": [
    "13) Write a sql query to sum all book's price that have rate 2 and price between 10 and 40"
   ]
  },
  {
   "cell_type": "code",
   "execution_count": 14,
   "metadata": {},
   "outputs": [
    {
     "data": {
      "text/plain": [
       "2017.1000000000008"
      ]
     },
     "execution_count": 14,
     "metadata": {},
     "output_type": "execute_result"
    }
   ],
   "source": [
    "connection.execute(\"SELECT sum(price) FROM books WHERE rates = 2 and (price between 10 and 40) \").fetchall()[0][0]"
   ]
  },
  {
   "cell_type": "markdown",
   "metadata": {},
   "source": [
    "14) Write a sql query to join both books & categories table into one new table containing book_name & category_name & book_rate and book_price."
   ]
  },
  {
   "cell_type": "markdown",
   "metadata": {},
   "source": [
    "**Notes: full outer joins and right join are currently an avaliable**\n",
    "* type right or full outer join it will produce an immediate errors"
   ]
  },
  {
   "cell_type": "code",
   "execution_count": 15,
   "metadata": {},
   "outputs": [
    {
     "data": {
      "text/plain": [
       "1544"
      ]
     },
     "execution_count": 15,
     "metadata": {},
     "output_type": "execute_result"
    }
   ],
   "source": [
    "left_join_books = connection.execute(\"\"\"SELECT B.book_name, B.rates, B.price, \n",
    "C.category FROM books B left join categories C on B.book_id = C.book_id\"\"\").fetchall()\n",
    "\n",
    "len(left_join_books)"
   ]
  },
  {
   "cell_type": "markdown",
   "metadata": {},
   "source": [
    "15) Write a sql query to calculate how many books each rate has and have price between 20£ and 30£."
   ]
  },
  {
   "cell_type": "code",
   "execution_count": 16,
   "metadata": {},
   "outputs": [
    {
     "data": {
      "text/plain": [
       "[(114, 1), (80, 2)]"
      ]
     },
     "execution_count": 16,
     "metadata": {},
     "output_type": "execute_result"
    }
   ],
   "source": [
    "connection.execute(\"SELECT count(rates), rates FROM books group by rates HAVING price BETWEEN 20 AND 30\").fetchall()\n",
    "# counting rates of each class, the most rates had price between 20 and 30\n",
    "# [(countin books, rate 1), (counting books, rates 2)] all had price between 20 and 30"
   ]
  },
  {
   "cell_type": "markdown",
   "metadata": {},
   "source": [
    "16) Write a sql query to calculate how many books each category has having count > 10."
   ]
  },
  {
   "cell_type": "code",
   "execution_count": 17,
   "metadata": {},
   "outputs": [
    {
     "data": {
      "text/plain": [
       "[(67, 'Add a comment'),\n",
       " (40, 'All products'),\n",
       " (1000, 'Books'),\n",
       " (12, 'Business'),\n",
       " (29, 'Childrens'),\n",
       " (19, 'Classics'),\n",
       " (152, 'Default'),\n",
       " (48, 'Fantasy'),\n",
       " (65, 'Fiction'),\n",
       " (30, 'Food and Drink'),\n",
       " (26, 'Historical Fiction'),\n",
       " (18, 'History'),\n",
       " (17, 'Horror'),\n",
       " (13, 'Music'),\n",
       " (32, 'Mystery'),\n",
       " (110, 'Nonfiction'),\n",
       " (11, 'Philosophy'),\n",
       " (19, 'Poetry'),\n",
       " (35, 'Romance'),\n",
       " (14, 'Science'),\n",
       " (16, 'Science Fiction'),\n",
       " (75, 'Sequential Art'),\n",
       " (11, 'Thriller'),\n",
       " (11, 'Travel'),\n",
       " (17, 'Womens Fiction'),\n",
       " (54, 'Young Adult')]"
      ]
     },
     "execution_count": 17,
     "metadata": {},
     "output_type": "execute_result"
    }
   ],
   "source": [
    "connection.execute(\"SELECT count(category) as count_cat, category FROM categories group by category HAVING count_cat > 10\").fetchall()"
   ]
  },
  {
   "cell_type": "markdown",
   "metadata": {},
   "source": [
    "17) Write a sql query to get all books with category_name='Music' using subquery."
   ]
  },
  {
   "cell_type": "code",
   "execution_count": 18,
   "metadata": {
    "scrolled": true
   },
   "outputs": [
    {
     "data": {
      "text/plain": [
       "[('Rip it Up and Start Again',),\n",
       " ('Our Band Could Be Your Life: Scenes from the American Indie Underground, 1981-1991',),\n",
       " ('Love Is a Mix Tape (Music #1)',),\n",
       " ('Please Kill Me: The Uncensored Oral History of Punk',),\n",
       " (\"Kill 'Em and Leave: Searching for James Brown and the American Soul\",),\n",
       " ('Orchestra of Exiles: The Story of Bronislaw Huberman, the Israel Philharmonic, and the One Thousand Jews He Saved from Nazi Horrors',),\n",
       " ('No One Here Gets Out Alive',),\n",
       " ('Life',),\n",
       " ('Forever Rockers (The Rocker #12)',)]"
      ]
     },
     "execution_count": 18,
     "metadata": {},
     "output_type": "execute_result"
    }
   ],
   "source": [
    "connection.execute(\"\"\"SELECT book_name FROM books \n",
    "WHERE book_id in (SELECT book_id FROM categories WHERE category = 'Music' )\"\"\").fetchall()"
   ]
  },
  {
   "cell_type": "markdown",
   "metadata": {},
   "source": [
    "## Reading SQL using pandas"
   ]
  },
  {
   "cell_type": "code",
   "execution_count": 38,
   "metadata": {},
   "outputs": [],
   "source": [
    "book_dataframe = pd.read_sql('SELECT * FROM books', connection)\n",
    "category_dataframe = pd.read_sql(\"SELECT * FROM categories\", connection)"
   ]
  },
  {
   "cell_type": "code",
   "execution_count": 39,
   "metadata": {},
   "outputs": [
    {
     "data": {
      "text/html": [
       "<div>\n",
       "<style scoped>\n",
       "    .dataframe tbody tr th:only-of-type {\n",
       "        vertical-align: middle;\n",
       "    }\n",
       "\n",
       "    .dataframe tbody tr th {\n",
       "        vertical-align: top;\n",
       "    }\n",
       "\n",
       "    .dataframe thead th {\n",
       "        text-align: right;\n",
       "    }\n",
       "</style>\n",
       "<table border=\"1\" class=\"dataframe\">\n",
       "  <thead>\n",
       "    <tr style=\"text-align: right;\">\n",
       "      <th></th>\n",
       "      <th>book_id</th>\n",
       "      <th>book_name</th>\n",
       "      <th>rates</th>\n",
       "      <th>price</th>\n",
       "    </tr>\n",
       "  </thead>\n",
       "  <tbody>\n",
       "    <tr>\n",
       "      <th>0</th>\n",
       "      <td>2</td>\n",
       "      <td>A Light in the Attic</td>\n",
       "      <td>3</td>\n",
       "      <td>51.77</td>\n",
       "    </tr>\n",
       "    <tr>\n",
       "      <th>1</th>\n",
       "      <td>5</td>\n",
       "      <td>Sharp Objects</td>\n",
       "      <td>4</td>\n",
       "      <td>47.82</td>\n",
       "    </tr>\n",
       "  </tbody>\n",
       "</table>\n",
       "</div>"
      ],
      "text/plain": [
       "   book_id             book_name  rates  price\n",
       "0        2  A Light in the Attic      3  51.77\n",
       "1        5         Sharp Objects      4  47.82"
      ]
     },
     "execution_count": 39,
     "metadata": {},
     "output_type": "execute_result"
    }
   ],
   "source": [
    "book_dataframe.head(2)"
   ]
  },
  {
   "cell_type": "code",
   "execution_count": 40,
   "metadata": {
    "scrolled": true
   },
   "outputs": [
    {
     "data": {
      "text/html": [
       "<div>\n",
       "<style scoped>\n",
       "    .dataframe tbody tr th:only-of-type {\n",
       "        vertical-align: middle;\n",
       "    }\n",
       "\n",
       "    .dataframe tbody tr th {\n",
       "        vertical-align: top;\n",
       "    }\n",
       "\n",
       "    .dataframe thead th {\n",
       "        text-align: right;\n",
       "    }\n",
       "</style>\n",
       "<table border=\"1\" class=\"dataframe\">\n",
       "  <thead>\n",
       "    <tr style=\"text-align: right;\">\n",
       "      <th></th>\n",
       "      <th>categ_id</th>\n",
       "      <th>category</th>\n",
       "      <th>book_id</th>\n",
       "    </tr>\n",
       "  </thead>\n",
       "  <tbody>\n",
       "    <tr>\n",
       "      <th>0</th>\n",
       "      <td>2</td>\n",
       "      <td>All products</td>\n",
       "      <td>2</td>\n",
       "    </tr>\n",
       "    <tr>\n",
       "      <th>1</th>\n",
       "      <td>3</td>\n",
       "      <td>All products</td>\n",
       "      <td>3</td>\n",
       "    </tr>\n",
       "  </tbody>\n",
       "</table>\n",
       "</div>"
      ],
      "text/plain": [
       "   categ_id      category  book_id\n",
       "0         2  All products        2\n",
       "1         3  All products        3"
      ]
     },
     "execution_count": 40,
     "metadata": {},
     "output_type": "execute_result"
    }
   ],
   "source": [
    "category_dataframe.head(2)"
   ]
  },
  {
   "cell_type": "markdown",
   "metadata": {},
   "source": [
    "## Reading an Exported csv file using Pandas"
   ]
  },
  {
   "cell_type": "code",
   "execution_count": 47,
   "metadata": {},
   "outputs": [
    {
     "data": {
      "text/html": [
       "<div>\n",
       "<style scoped>\n",
       "    .dataframe tbody tr th:only-of-type {\n",
       "        vertical-align: middle;\n",
       "    }\n",
       "\n",
       "    .dataframe tbody tr th {\n",
       "        vertical-align: top;\n",
       "    }\n",
       "\n",
       "    .dataframe thead th {\n",
       "        text-align: right;\n",
       "    }\n",
       "</style>\n",
       "<table border=\"1\" class=\"dataframe\">\n",
       "  <thead>\n",
       "    <tr style=\"text-align: right;\">\n",
       "      <th></th>\n",
       "      <th>book_id</th>\n",
       "      <th>book_name</th>\n",
       "      <th>rates</th>\n",
       "      <th>price</th>\n",
       "    </tr>\n",
       "  </thead>\n",
       "  <tbody>\n",
       "    <tr>\n",
       "      <th>0</th>\n",
       "      <td>2</td>\n",
       "      <td>A Light in the Attic</td>\n",
       "      <td>3</td>\n",
       "      <td>51.77</td>\n",
       "    </tr>\n",
       "    <tr>\n",
       "      <th>1</th>\n",
       "      <td>3</td>\n",
       "      <td>Tipping the Velvet</td>\n",
       "      <td>1</td>\n",
       "      <td>53.74</td>\n",
       "    </tr>\n",
       "  </tbody>\n",
       "</table>\n",
       "</div>"
      ],
      "text/plain": [
       "   book_id             book_name  rates  price\n",
       "0        2  A Light in the Attic      3  51.77\n",
       "1        3    Tipping the Velvet      1  53.74"
      ]
     },
     "execution_count": 47,
     "metadata": {},
     "output_type": "execute_result"
    }
   ],
   "source": [
    "book_df = pd.read_csv(r\"Export_to_CSV\\books.csv\")\n",
    "book_df.head(2)"
   ]
  },
  {
   "cell_type": "code",
   "execution_count": 49,
   "metadata": {
    "scrolled": true
   },
   "outputs": [
    {
     "data": {
      "text/html": [
       "<div>\n",
       "<style scoped>\n",
       "    .dataframe tbody tr th:only-of-type {\n",
       "        vertical-align: middle;\n",
       "    }\n",
       "\n",
       "    .dataframe tbody tr th {\n",
       "        vertical-align: top;\n",
       "    }\n",
       "\n",
       "    .dataframe thead th {\n",
       "        text-align: right;\n",
       "    }\n",
       "</style>\n",
       "<table border=\"1\" class=\"dataframe\">\n",
       "  <thead>\n",
       "    <tr style=\"text-align: right;\">\n",
       "      <th></th>\n",
       "      <th>categ_id</th>\n",
       "      <th>category</th>\n",
       "      <th>book_id</th>\n",
       "    </tr>\n",
       "  </thead>\n",
       "  <tbody>\n",
       "    <tr>\n",
       "      <th>0</th>\n",
       "      <td>2</td>\n",
       "      <td>All products</td>\n",
       "      <td>2</td>\n",
       "    </tr>\n",
       "    <tr>\n",
       "      <th>1</th>\n",
       "      <td>3</td>\n",
       "      <td>All products</td>\n",
       "      <td>3</td>\n",
       "    </tr>\n",
       "  </tbody>\n",
       "</table>\n",
       "</div>"
      ],
      "text/plain": [
       "   categ_id      category  book_id\n",
       "0         2  All products        2\n",
       "1         3  All products        3"
      ]
     },
     "execution_count": 49,
     "metadata": {},
     "output_type": "execute_result"
    }
   ],
   "source": [
    "cat_df = pd.read_csv(r\"Export_to_CSV\\categories.csv\")\n",
    "cat_df.head(2)"
   ]
  },
  {
   "cell_type": "markdown",
   "metadata": {},
   "source": [
    "## Reading rows sequence"
   ]
  },
  {
   "cell_type": "code",
   "execution_count": 113,
   "metadata": {
    "scrolled": true
   },
   "outputs": [
    {
     "data": {
      "text/html": [
       "<div>\n",
       "<style scoped>\n",
       "    .dataframe tbody tr th:only-of-type {\n",
       "        vertical-align: middle;\n",
       "    }\n",
       "\n",
       "    .dataframe tbody tr th {\n",
       "        vertical-align: top;\n",
       "    }\n",
       "\n",
       "    .dataframe thead th {\n",
       "        text-align: right;\n",
       "    }\n",
       "</style>\n",
       "<table border=\"1\" class=\"dataframe\">\n",
       "  <thead>\n",
       "    <tr style=\"text-align: right;\">\n",
       "      <th></th>\n",
       "      <th>name</th>\n",
       "      <th>seq</th>\n",
       "    </tr>\n",
       "  </thead>\n",
       "  <tbody>\n",
       "    <tr>\n",
       "      <th>0</th>\n",
       "      <td>books</td>\n",
       "      <td>2041</td>\n",
       "    </tr>\n",
       "    <tr>\n",
       "      <th>1</th>\n",
       "      <td>categories</td>\n",
       "      <td>2041</td>\n",
       "    </tr>\n",
       "  </tbody>\n",
       "</table>\n",
       "</div>"
      ],
      "text/plain": [
       "         name   seq\n",
       "0       books  2041\n",
       "1  categories  2041"
      ]
     },
     "execution_count": 113,
     "metadata": {},
     "output_type": "execute_result"
    }
   ],
   "source": [
    "sequence = pd.read_csv(r\"Export_to_CSV\\sqlite_sequence.csv\")\n",
    "sequence.head()"
   ]
  }
 ],
 "metadata": {
  "kernelspec": {
   "display_name": "Python 3",
   "language": "python",
   "name": "python3"
  },
  "language_info": {
   "codemirror_mode": {
    "name": "ipython",
    "version": 3
   },
   "file_extension": ".py",
   "mimetype": "text/x-python",
   "name": "python",
   "nbconvert_exporter": "python",
   "pygments_lexer": "ipython3",
   "version": "3.7.6"
  }
 },
 "nbformat": 4,
 "nbformat_minor": 4
}
